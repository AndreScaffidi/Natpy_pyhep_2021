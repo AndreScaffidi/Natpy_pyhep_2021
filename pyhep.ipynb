{
 "cells": [
  {
   "cell_type": "markdown",
   "metadata": {},
   "source": [
    "# Introduing $\\texttt{NatPy}$, a simple and convenient python module for dealing with and converting natural units.\n",
    "## Requires $\\texttt{python>=3.7 }$, $\\texttt{astropy}$\n",
    "\n",
    "[![Binder](https://mybinder.org/badge_logo.svg)](https://mybinder.org/v2/gh/AndreScaffidi/Natpy_pyhep_2021/HEAD?filepath=pyhep.ipynb)\n"
   ]
  },
  {
   "cell_type": "code",
   "execution_count": null,
   "metadata": {},
   "outputs": [],
   "source": [
    "!pip install natpy"
   ]
  },
  {
   "cell_type": "markdown",
   "metadata": {},
   "source": [
    "## Ever wanted to convert MeV / fm$^{3}$ to Pascals?"
   ]
  },
  {
   "cell_type": "code",
   "execution_count": null,
   "metadata": {},
   "outputs": [],
   "source": [
    "import natpy as nat\n",
    "print(\"Before conversion:\")\n",
    "a = 1 * nat.MeV * nat.fm**(-3)\n",
    "a"
   ]
  },
  {
   "cell_type": "code",
   "execution_count": null,
   "metadata": {},
   "outputs": [],
   "source": [
    "print(\"After conversion:\")\n",
    "a.convert(nat.Pa)"
   ]
  },
  {
   "cell_type": "markdown",
   "metadata": {},
   "source": [
    "## Standard HEP unit conventions require \n",
    "$\\bar{h} = c = \\epsilon_0=1$ \n",
    "* $\\alpha=\\frac{e^{2}}{ 4 \\pi \\varepsilon_{0} \\hbar c }\\simeq 1 / 137$\n",
    "* $e=\\sqrt{4 \\pi \\alpha} \\simeq 0.303$\n",
    "* Mass, momentum, energy are measured in GeV $(m=m_{\\mathrm{NU}} / c^{2}, p=p_{\\mathrm{NU}} / c \\text { ) }$\n",
    "* Length is measured in GeV$^{-1}\\left(L_{\\mathrm{SI}}=L_{\\mathrm{NU}} \\times \\hbar c\\right)$\n",
    "* Cross section (area) is measured in GeV$^{-2}\\left(\\sigma_{\\mathrm{SI}}=\\sigma_{\\mathrm{NU}} \\times(\\hbar c)^{2}\\right)$\n",
    "* Time is measured in GeV$^{-1}\\left(t_{\\mathrm{SI}}=t_{\\mathrm{NU}} \\times \\hbar\\right)$"
   ]
  },
  {
   "cell_type": "markdown",
   "metadata": {
    "tags": []
   },
   "source": [
    "## NatPy quantities are astropy.units.quantity.Quantity objects"
   ]
  },
  {
   "cell_type": "code",
   "execution_count": null,
   "metadata": {
    "tags": []
   },
   "outputs": [],
   "source": [
    "a = 1 * nat.GeV\n",
    "type(a)"
   ]
  },
  {
   "cell_type": "markdown",
   "metadata": {},
   "source": [
    "### Can access astropy quantities easily"
   ]
  },
  {
   "cell_type": "code",
   "execution_count": null,
   "metadata": {},
   "outputs": [],
   "source": [
    "nat.const.c"
   ]
  },
  {
   "cell_type": "code",
   "execution_count": null,
   "metadata": {},
   "outputs": [],
   "source": [
    "nat.const.hbar"
   ]
  },
  {
   "cell_type": "code",
   "execution_count": null,
   "metadata": {},
   "outputs": [],
   "source": [
    "nat.const.e"
   ]
  },
  {
   "cell_type": "markdown",
   "metadata": {},
   "source": [
    "$\\texttt{NatPy}$: Convert $e$ to natural units"
   ]
  },
  {
   "cell_type": "code",
   "execution_count": null,
   "metadata": {},
   "outputs": [],
   "source": [
    "nat.const.e.convert(nat.one)"
   ]
  },
  {
   "cell_type": "markdown",
   "metadata": {},
   "source": [
    "## $\\texttt{Natpy}$ real world workflow example\n",
    "Consider calculating an average decay length for some new physics: \n",
    "\n",
    "$$\n",
    "\\bar{L} = \\beta\\gamma\\left(\\frac{1}{\\Gamma}\\right)\n",
    "$$\n",
    "where\n",
    "\n",
    "$$\n",
    "\\Gamma\\left(\\chi_{2} \\rightarrow \\chi_{1} \\ell^{+} \\ell^{-}\\right) = \\frac{4 \\epsilon^{2} \\alpha_{\\mathrm{em}} \\alpha_{D} \\Delta^{5} m_{1}^{5}}{15 \\pi m_{A^{\\prime}}^{4}}\n",
    "$$"
   ]
  },
  {
   "cell_type": "code",
   "execution_count": null,
   "metadata": {},
   "outputs": [],
   "source": [
    "# All unitful physical quantities handled by NatPy!\n",
    "import numpy as np\n",
    "m1    = 10 * nat.GeV\n",
    "mA    = 3 * m1\n",
    "Delta = 0.1\n",
    "m2    = Delta*m1 + m1\n",
    "epsi  = 5.7E-5\n",
    "alphaD= 0.1"
   ]
  },
  {
   "cell_type": "code",
   "execution_count": null,
   "metadata": {},
   "outputs": [],
   "source": [
    "# Decay width\n",
    "def Gamma(ep,m_1,m_A,alpha_D,delta):\n",
    "    numerator   = 4 * ep**2 * nat.const.alpha * alpha_D * delta**5 * m_1**5\n",
    "    denominator = 15 * np.pi * m_A**4\n",
    "    return numerator / denominator\n",
    "# Decay length\n",
    "def boost_factor(m,p):\n",
    "    E = np.sqrt(p**2+m**2)\n",
    "    return (E/m)\n",
    "def Beta(boost_factor): \n",
    "    return np.sqrt(1 - 1/boost_factor**2)\n",
    "def L_bar(p):\n",
    "    Chi2_gamma  = boost_factor(m2,p)\n",
    "    d           = Beta(Chi2_gamma)*Chi2_gamma*(1 / Gamma(epsi,m1,mA,alphaD,Delta)) \n",
    "    return d \n",
    "# Say particle has |p| = 7 GeV... \n",
    "print(\"Calling L_bar() gives use an object with units 1 / GeV\")\n",
    "L_bar(7 * nat.GeV)"
   ]
  },
  {
   "cell_type": "code",
   "execution_count": null,
   "metadata": {},
   "outputs": [],
   "source": [
    "print(\"Post conversion\")\n",
    "L_bar(7 * nat.GeV).convert(nat.m) # Convert everything to meters at the end!"
   ]
  },
  {
   "cell_type": "markdown",
   "metadata": {},
   "source": [
    "**If intrinsic (natural) unit consistency is achieved, can always convert the final result to whatever units we like!!**"
   ]
  },
  {
   "cell_type": "markdown",
   "metadata": {},
   "source": [
    "### **Spicy**: Input  $m_1$ in kg?!"
   ]
  },
  {
   "cell_type": "code",
   "execution_count": null,
   "metadata": {},
   "outputs": [],
   "source": [
    "m1 = m1.convert(nat.kg)\n",
    "m1"
   ]
  },
  {
   "cell_type": "markdown",
   "metadata": {},
   "source": [
    "## Changing unit systems"
   ]
  },
  {
   "cell_type": "code",
   "execution_count": null,
   "metadata": {},
   "outputs": [],
   "source": [
    "nat.set_active_units(\"planck\")\n",
    "print(\"Planck length in m\")\n",
    "nat.one.convert(nat.m)"
   ]
  },
  {
   "cell_type": "markdown",
   "metadata": {},
   "source": [
    "### $\\texttt{Natpy}$ under the hood"
   ]
  },
  {
   "cell_type": "markdown",
   "metadata": {},
   "source": [
    "![title](img/equation_natpy.png)"
   ]
  },
  {
   "cell_type": "markdown",
   "metadata": {},
   "source": [
    "The difference in dimentionallity is wrapped up in $\\bar{d}$"
   ]
  },
  {
   "cell_type": "markdown",
   "metadata": {},
   "source": [
    "$$\\bar{d} = \\hbar^{n_{\\hbar}}c^{n_c}...$$"
   ]
  },
  {
   "cell_type": "markdown",
   "metadata": {},
   "source": [
    "$$\\text { Define } \n",
    "\\;\\vec{d}=\\left(\\begin{array}{c}\n",
    "n_{\\hbar} \\\\\n",
    "n_{c} \\\\\n",
    "\\vdots\n",
    "\\end{array}\\right)$$"
   ]
  },
  {
   "cell_type": "markdown",
   "metadata": {},
   "source": [
    "$\\Rightarrow$ linear algebra problem! After a little math..."
   ]
  },
  {
   "cell_type": "markdown",
   "metadata": {},
   "source": [
    "$$\n",
    "\\vec{d}\n",
    "=\n",
    "\\begin{pmatrix}\n",
    " & \\text{Psuedo inverse matrix involving} &  \\\\ \n",
    " & \\text{powers of mass/time/length} &  \\\\\n",
    " & \\text{for } \\bar{q}_f\\text{ and }\\bar{q_i} &  \\\\\n",
    "\\end{pmatrix}              \n",
    "$$\n"
   ]
  }
 ],
 "metadata": {
  "kernelspec": {
   "display_name": "Python 3",
   "language": "python",
   "name": "python3"
  },
  "language_info": {
   "codemirror_mode": {
    "name": "ipython",
    "version": 3
   },
   "file_extension": ".py",
   "mimetype": "text/x-python",
   "name": "python",
   "nbconvert_exporter": "python",
   "pygments_lexer": "ipython3",
   "version": "3.8.5"
  }
 },
 "nbformat": 4,
 "nbformat_minor": 4
}
