{
 "cells": [
  {
   "cell_type": "markdown",
   "metadata": {},
   "source": [
    "# Introduing $\\texttt{NatPy}$, a simple and convenient python module for dealing with and converting natural units.\n",
    "## Requires $\\texttt{python>=3.7 }$, $\\texttt{astropy}$"
   ]
  },
  {
   "cell_type": "code",
   "execution_count": 1,
   "metadata": {},
   "outputs": [
    {
     "name": "stdout",
     "output_type": "stream",
     "text": [
      "Requirement already satisfied: natpy in /home/andre/anaconda3/envs/NU/lib/python3.8/site-packages (0.1.0)\n",
      "Requirement already satisfied: astropy in /home/andre/anaconda3/envs/NU/lib/python3.8/site-packages (from natpy) (4.0.1.post1)\n",
      "Requirement already satisfied: numpy in /home/andre/anaconda3/envs/NU/lib/python3.8/site-packages (from natpy) (1.19.1)\n"
     ]
    }
   ],
   "source": [
    "!pip install natpy"
   ]
  },
  {
   "cell_type": "markdown",
   "metadata": {},
   "source": [
    "### Ever wanted to convert MeV / fm$^{3}$ to Pascals?"
   ]
  },
  {
   "cell_type": "code",
   "execution_count": 2,
   "metadata": {},
   "outputs": [
    {
     "data": {
      "text/latex": [
       "$1.6021766 \\times 10^{32} \\; \\mathrm{Pa}$"
      ],
      "text/plain": [
       "<Quantity 1.60217663e+32 Pa>"
      ]
     },
     "execution_count": 2,
     "metadata": {},
     "output_type": "execute_result"
    }
   ],
   "source": [
    "import natpy as nat\n",
    "a = 1 * nat.MeV * nat.fm**(-3)\n",
    "a.convert(nat.Pa)"
   ]
  },
  {
   "cell_type": "markdown",
   "metadata": {},
   "source": [
    "### Standard HEP unit conventions require \n",
    "> $\\bar{h} = c = \\epsilon_0=1$ "
   ]
  },
  {
   "cell_type": "code",
   "execution_count": null,
   "metadata": {},
   "outputs": [],
   "source": []
  }
 ],
 "metadata": {
  "kernelspec": {
   "display_name": "Python 3",
   "language": "python",
   "name": "python3"
  },
  "language_info": {
   "codemirror_mode": {
    "name": "ipython",
    "version": 3
   },
   "file_extension": ".py",
   "mimetype": "text/x-python",
   "name": "python",
   "nbconvert_exporter": "python",
   "pygments_lexer": "ipython3",
   "version": "3.8.5"
  }
 },
 "nbformat": 4,
 "nbformat_minor": 4
}
